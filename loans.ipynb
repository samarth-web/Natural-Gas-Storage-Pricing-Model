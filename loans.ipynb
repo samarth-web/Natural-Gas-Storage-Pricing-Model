{
 "cells": [
  {
   "cell_type": "code",
   "execution_count": 15,
   "metadata": {},
   "outputs": [],
   "source": [
    "import pandas as pd\n",
    "import numpy as np\n",
    "from sklearn.ensemble import RandomForestClassifier\n",
    "from sklearn.model_selection import train_test_split\n",
    "from sklearn.metrics import classification_report\n",
    "\n"
   ]
  },
  {
   "cell_type": "code",
   "execution_count": null,
   "metadata": {},
   "outputs": [
    {
     "name": "stdout",
     "output_type": "stream",
     "text": [
      "default                     1.000000\n",
      "credit_lines_outstanding    0.862815\n",
      "total_debt_outstanding      0.758868\n",
      "loan_amt_outstanding        0.098978\n",
      "income                      0.016309\n",
      "customer_id                 0.006927\n",
      "years_employed             -0.284506\n",
      "fico_score                 -0.324515\n",
      "Name: default, dtype: float64\n"
     ]
    }
   ],
   "source": [
    "df = pd.read_csv(\"data/Loan.csv\")\n",
    "df = df.dropna()\n",
    "\n",
    "y = df[\"default\"]\n",
    "X = df.drop(\"default\", axis = 1)\n",
    "print(df.corr()[\"default\"].sort_values(ascending=False))\n",
    "#These are crazy high correlations which aren't seen in real-world hence the model is so good and despite being no overfitting or data leakage\n"
   ]
  },
  {
   "cell_type": "code",
   "execution_count": 20,
   "metadata": {},
   "outputs": [
    {
     "name": "stdout",
     "output_type": "stream",
     "text": [
      "              precision    recall  f1-score   support\n",
      "\n",
      "           0       1.00      1.00      1.00      1630\n",
      "           1       0.99      0.98      0.99       370\n",
      "\n",
      "    accuracy                           1.00      2000\n",
      "   macro avg       0.99      0.99      0.99      2000\n",
      "weighted avg       1.00      1.00      1.00      2000\n",
      "\n"
     ]
    }
   ],
   "source": [
    "X_train, X_test, y_train, y_test = train_test_split(X, y, test_size=0.2, stratify = y,random_state=42)\n",
    "ran = RandomForestClassifier(n_estimators=500, random_state=42)\n",
    "ran.fit(X_train,y_train)\n",
    "loans_pr = ran.predict_proba(X_test)\n",
    "loans_check = ran.predict(X_test)\n",
    "print(classification_report(y_test,loans_check))"
   ]
  }
 ],
 "metadata": {
  "kernelspec": {
   "display_name": "new_venv",
   "language": "python",
   "name": "new_venv"
  },
  "language_info": {
   "codemirror_mode": {
    "name": "ipython",
    "version": 3
   },
   "file_extension": ".py",
   "mimetype": "text/x-python",
   "name": "python",
   "nbconvert_exporter": "python",
   "pygments_lexer": "ipython3",
   "version": "3.10.8"
  }
 },
 "nbformat": 4,
 "nbformat_minor": 2
}
